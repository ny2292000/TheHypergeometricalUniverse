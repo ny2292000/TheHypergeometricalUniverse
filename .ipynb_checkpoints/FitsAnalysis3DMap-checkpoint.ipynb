{
 "cells": [
  {
   "cell_type": "code",
   "execution_count": 1,
   "metadata": {},
   "outputs": [],
   "source": [
    "%matplotlib inline\n",
    "import parameters\n",
    "import HULib\n",
    "import numpy as np\n",
    "import pandas as pd\n",
    "import glue\n",
    "import matplotlib.pylab as plt\n",
    "import seaborn as sns\n",
    "parameters.glueme = True  # load data to glue for manipulation of the Universe"
   ]
  },
  {
   "cell_type": "markdown",
   "metadata": {},
   "source": [
    "# 3D Map Calculation"
   ]
  },
  {
   "cell_type": "code",
   "execution_count": 2,
   "metadata": {},
   "outputs": [
    {
     "name": "stdout",
     "output_type": "stream",
     "text": [
      "Index(['RA', 'DEC', 'ID', 'Z', 'NZ'], dtype='object')\n",
      "Index(['RA', 'DEC', 'ID', 'Z', 'NZ'], dtype='object')\n",
      "Index(['RA', 'DEC', 'ID', 'Z', 'NZ'], dtype='object')\n",
      "Index(['RA', 'DEC', 'ID', 'Z', 'NZ'], dtype='object')\n"
     ]
    }
   ],
   "source": [
    "gals = ['galaxy_DR12v5_CMASS_North.fits','galaxy_DR12v5_LOWZ_North.fits',\n",
    "       'galaxy_DR12v5_CMASS_South.fits','galaxy_DR12v5_LOWZ_South.fits']\n",
    "\n",
    "gal = parameters.sdssAddress + 'galaxy_DR12v5_CMASS_North.fits';\n",
    "myGalaxy0 = HULib.get_BOSS_data(gal)\n",
    "numGalaxies=myGalaxy0.shape[0]\n",
    "\n",
    "gal = parameters.sdssAddress + 'galaxy_DR12v5_CMASS_South.fits';\n",
    "myGalaxy1 = HULib.get_BOSS_data(gal)\n",
    "numGalaxies1=myGalaxy1.shape[0]\n",
    "\n",
    "gal = parameters.sdssAddress + 'galaxy_DR12v5_LOWZ_North.fits';\n",
    "myGalaxy2 = HULib.get_BOSS_data(gal)\n",
    "numGalaxies2=myGalaxy2.shape[0]\n",
    "\n",
    "gal = parameters.sdssAddress + 'galaxy_DR12v5_LOWZ_South.fits';\n",
    "myGalaxy3 = HULib.get_BOSS_data(gal)\n",
    "numGalaxies3=myGalaxy3.shape[0]\n",
    "\n",
    "myGalaxy= pd.concat([myGalaxy0,myGalaxy1,myGalaxy2,myGalaxy3])\n",
    "\n",
    "\n",
    "# 3D xyz Map\n",
    "df=pd.DataFrame({'Me' : myGalaxy.groupby( [ \"x\", \"y\",'z'] )['Me'].sum()}).reset_index()\n",
    "\n",
    "dfmax=df.Me.max()\n",
    "dfmin=df.Me.min()\n",
    "if parameters.saveme:\n",
    "    df.to_excel(parameters.imgAddress + 'myGalaxyGroupbyxyz.xlsx')\n",
    "\n",
    "if parameters.glueme:\n",
    "    glue.qglue (star=df)"
   ]
  },
  {
   "cell_type": "code",
   "execution_count": 3,
   "metadata": {},
   "outputs": [
    {
     "name": "stdout",
     "output_type": "stream",
     "text": [
      "Center of Mass =  -0.015760926547883573 -0.0021898066735458466 0.027349915757153353\n"
     ]
    }
   ],
   "source": [
    "#Are we at the Center of Mass of the wave = Yes\n",
    "mm=df.Me.std()\n",
    "xAv= np.mean(df.x*df.Me)/mm\n",
    "yAv= np.mean(df.y*df.Me)/mm\n",
    "zAv= np.mean(df.z*df.Me)/mm\n",
    "print(\"Center of Mass = \",xAv,yAv,zAv)"
   ]
  },
  {
   "cell_type": "code",
   "execution_count": 6,
   "metadata": {},
   "outputs": [
    {
     "data": {
      "text/plain": [
       "0.19478365698850617"
      ]
     },
     "execution_count": 6,
     "metadata": {},
     "output_type": "execute_result"
    }
   ],
   "source": [
    "np.sqrt(xAv**2+yAv**2+zAv**2)"
   ]
  },
  {
   "cell_type": "code",
   "execution_count": 7,
   "metadata": {},
   "outputs": [
    {
     "name": "stdout",
     "output_type": "stream",
     "text": [
      "Center of Stars =  0.21349764150943407 0.0 0.0\n"
     ]
    }
   ],
   "source": [
    "# Are we at the center of the number of sky (based on the number of stars) = No\n",
    "xAv= np.mean(df.x)\n",
    "yAv= np.mean(df.y)\n",
    "zAv= np.mean(df.z)\n",
    "print(\"Center of Stars = \",xAv,yAv,zAv)"
   ]
  },
  {
   "cell_type": "code",
   "execution_count": 8,
   "metadata": {},
   "outputs": [
    {
     "data": {
      "text/plain": [
       "0.21349764150943407"
      ]
     },
     "execution_count": 8,
     "metadata": {},
     "output_type": "execute_result"
    }
   ],
   "source": [
    "np.sqrt(xAv**2+yAv**2+zAv**2)"
   ]
  },
  {
   "cell_type": "code",
   "execution_count": 9,
   "metadata": {},
   "outputs": [
    {
     "name": "stdout",
     "output_type": "stream",
     "text": [
      "Index(['RA', 'DEC', 'ID', 'Z', 'NZ'], dtype='object')\n",
      "Index(['RA', 'DEC', 'ID', 'Z', 'NZ'], dtype='object')\n",
      "Index(['RA', 'DEC', 'ID', 'Z', 'NZ', 'CosRA', 'SinRA', 'CosDEC', 'SinDEC',\n",
      "       'distance0', 'distance', 'density', 'Me', 'alpha', 'x', 'y', 'z'],\n",
      "      dtype='object')\n"
     ]
    }
   ],
   "source": [
    "# Alpha-RA Map\n",
    "gals = ['galaxy_DR12v5_CMASS_North.fits','galaxy_DR12v5_LOWZ_North.fits',\n",
    "       'galaxy_DR12v5_CMASS_South.fits','galaxy_DR12v5_LOWZ_South.fits']\n",
    "\n",
    "myGalaxy = pd.concat([HULib.get_BOSS_data(parameters.sdssAddress + '' + gals[0]),HULib.get_BOSS_data(parameters.sdssAddress + '' + gals[1])])\n",
    "myGalaxy = HULib.fix_BOSS_data(myGalaxy)\n",
    "df=pd.DataFrame({'Me' : myGalaxy.groupby( [ 'alpha','RA'] )['Me'].sum()}).reset_index()\n",
    "if parameters.glueme:\n",
    "    glue.qglue (star=df)"
   ]
  },
  {
   "cell_type": "code",
   "execution_count": 10,
   "metadata": {},
   "outputs": [
    {
     "name": "stdout",
     "output_type": "stream",
     "text": [
      "Index(['RA', 'DEC', 'ID', 'Z', 'NZ'], dtype='object')\n",
      "Index(['RA', 'DEC', 'ID', 'Z', 'NZ'], dtype='object')\n"
     ]
    }
   ],
   "source": [
    "# Alpha-DEC Map\n",
    "gals = ['galaxy_DR12v5_CMASS_North.fits','galaxy_DR12v5_LOWZ_North.fits',\n",
    "       'galaxy_DR12v5_CMASS_South.fits','galaxy_DR12v5_LOWZ_South.fits']\n",
    "\n",
    "myGalaxy = pd.concat([HULib.get_BOSS_data(parameters.sdssAddress + '' + gals[0]),HULib.get_BOSS_data(parameters.sdssAddress + '' + gals[1])])\n",
    "df=pd.DataFrame({'Me' : myGalaxy.groupby( [ 'alpha','DEC'] )['Me'].sum()}).reset_index()\n",
    "if parameters.glueme:\n",
    "    glue.qglue (star=df)"
   ]
  },
  {
   "cell_type": "markdown",
   "metadata": {
    "collapsed": true
   },
   "source": [
    "150 Megaparsec = 27.757646186"
   ]
  },
  {
   "cell_type": "code",
   "execution_count": null,
   "metadata": {},
   "outputs": [],
   "source": []
  },
  {
   "cell_type": "code",
   "execution_count": null,
   "metadata": {},
   "outputs": [],
   "source": []
  },
  {
   "cell_type": "code",
   "execution_count": null,
   "metadata": {},
   "outputs": [],
   "source": []
  }
 ],
 "metadata": {
  "kernelspec": {
   "display_name": "Python 3",
   "language": "python",
   "name": "python3"
  },
  "language_info": {
   "codemirror_mode": {
    "name": "ipython",
    "version": 3
   },
   "file_extension": ".py",
   "mimetype": "text/x-python",
   "name": "python",
   "nbconvert_exporter": "python",
   "pygments_lexer": "ipython3",
   "version": "3.6.8"
  }
 },
 "nbformat": 4,
 "nbformat_minor": 1
}
